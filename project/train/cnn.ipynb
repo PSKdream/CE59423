{
 "cells": [
  {
   "cell_type": "code",
   "execution_count": 19,
   "metadata": {
    "collapsed": true
   },
   "outputs": [],
   "source": [
    "import numpy as np\n",
    "import pandas as pd\n",
    "import matplotlib.pyplot as plt\n",
    "from pathlib import Path\n",
    "import os.path\n",
    "\n",
    "from sklearn.model_selection import train_test_split\n",
    "\n",
    "import tensorflow as tf\n",
    "\n",
    "from sklearn.metrics import r2_score"
   ]
  },
  {
   "cell_type": "code",
   "execution_count": 2,
   "outputs": [],
   "source": [
    "images = pd.read_csv('./_annotations.csv')"
   ],
   "metadata": {
    "collapsed": false,
    "pycharm": {
     "name": "#%%\n"
    }
   }
  },
  {
   "cell_type": "code",
   "execution_count": 3,
   "outputs": [
    {
     "data": {
      "text/plain": "    Unnamed: 0                                           Filepath  Weight\n0            0  ./20220430_172126_jpg.rf.3fafe29809654fd50b310...     136\n1            1  ./20220430_172126_jpg.rf.500efe03a5dfe328ca4ed...     136\n2            2  ./20220430_172126_jpg.rf.64d7d68c2db9ef8784de1...     136\n3            3  ./20220430_172126_jpg.rf.8ba840693486aa164606d...     136\n4            4  ./20220430_172126_jpg.rf.9376bc1137e185e64bb01...     136\n..         ...                                                ...     ...\n93          93  ./20220430_172634_jpg.rf.a873937c1c664a4940c19...     161\n94          94  ./20220430_172634_jpg.rf.b24154405b5441b1d7307...     161\n95          95  ./20220430_172634_jpg.rf.ba8e2086d1c9720d5637a...     161\n96          96  ./20220430_172634_jpg.rf.cbc9226afd4fedd195ed7...     161\n97          97  ./20220430_172634_jpg.rf.f8765c163c666ffaa9cd1...     161\n\n[98 rows x 3 columns]",
      "text/html": "<div>\n<style scoped>\n    .dataframe tbody tr th:only-of-type {\n        vertical-align: middle;\n    }\n\n    .dataframe tbody tr th {\n        vertical-align: top;\n    }\n\n    .dataframe thead th {\n        text-align: right;\n    }\n</style>\n<table border=\"1\" class=\"dataframe\">\n  <thead>\n    <tr style=\"text-align: right;\">\n      <th></th>\n      <th>Unnamed: 0</th>\n      <th>Filepath</th>\n      <th>Weight</th>\n    </tr>\n  </thead>\n  <tbody>\n    <tr>\n      <th>0</th>\n      <td>0</td>\n      <td>./20220430_172126_jpg.rf.3fafe29809654fd50b310...</td>\n      <td>136</td>\n    </tr>\n    <tr>\n      <th>1</th>\n      <td>1</td>\n      <td>./20220430_172126_jpg.rf.500efe03a5dfe328ca4ed...</td>\n      <td>136</td>\n    </tr>\n    <tr>\n      <th>2</th>\n      <td>2</td>\n      <td>./20220430_172126_jpg.rf.64d7d68c2db9ef8784de1...</td>\n      <td>136</td>\n    </tr>\n    <tr>\n      <th>3</th>\n      <td>3</td>\n      <td>./20220430_172126_jpg.rf.8ba840693486aa164606d...</td>\n      <td>136</td>\n    </tr>\n    <tr>\n      <th>4</th>\n      <td>4</td>\n      <td>./20220430_172126_jpg.rf.9376bc1137e185e64bb01...</td>\n      <td>136</td>\n    </tr>\n    <tr>\n      <th>...</th>\n      <td>...</td>\n      <td>...</td>\n      <td>...</td>\n    </tr>\n    <tr>\n      <th>93</th>\n      <td>93</td>\n      <td>./20220430_172634_jpg.rf.a873937c1c664a4940c19...</td>\n      <td>161</td>\n    </tr>\n    <tr>\n      <th>94</th>\n      <td>94</td>\n      <td>./20220430_172634_jpg.rf.b24154405b5441b1d7307...</td>\n      <td>161</td>\n    </tr>\n    <tr>\n      <th>95</th>\n      <td>95</td>\n      <td>./20220430_172634_jpg.rf.ba8e2086d1c9720d5637a...</td>\n      <td>161</td>\n    </tr>\n    <tr>\n      <th>96</th>\n      <td>96</td>\n      <td>./20220430_172634_jpg.rf.cbc9226afd4fedd195ed7...</td>\n      <td>161</td>\n    </tr>\n    <tr>\n      <th>97</th>\n      <td>97</td>\n      <td>./20220430_172634_jpg.rf.f8765c163c666ffaa9cd1...</td>\n      <td>161</td>\n    </tr>\n  </tbody>\n</table>\n<p>98 rows × 3 columns</p>\n</div>"
     },
     "execution_count": 3,
     "metadata": {},
     "output_type": "execute_result"
    }
   ],
   "source": [
    "images"
   ],
   "metadata": {
    "collapsed": false,
    "pycharm": {
     "name": "#%%\n"
    }
   }
  },
  {
   "cell_type": "code",
   "execution_count": 4,
   "outputs": [
    {
     "data": {
      "text/plain": "                                             Filepath  Weight\n93  ./20220430_172634_jpg.rf.a873937c1c664a4940c19...     161\n94  ./20220430_172634_jpg.rf.b24154405b5441b1d7307...     161\n95  ./20220430_172634_jpg.rf.ba8e2086d1c9720d5637a...     161\n96  ./20220430_172634_jpg.rf.cbc9226afd4fedd195ed7...     161\n97  ./20220430_172634_jpg.rf.f8765c163c666ffaa9cd1...     161",
      "text/html": "<div>\n<style scoped>\n    .dataframe tbody tr th:only-of-type {\n        vertical-align: middle;\n    }\n\n    .dataframe tbody tr th {\n        vertical-align: top;\n    }\n\n    .dataframe thead th {\n        text-align: right;\n    }\n</style>\n<table border=\"1\" class=\"dataframe\">\n  <thead>\n    <tr style=\"text-align: right;\">\n      <th></th>\n      <th>Filepath</th>\n      <th>Weight</th>\n    </tr>\n  </thead>\n  <tbody>\n    <tr>\n      <th>93</th>\n      <td>./20220430_172634_jpg.rf.a873937c1c664a4940c19...</td>\n      <td>161</td>\n    </tr>\n    <tr>\n      <th>94</th>\n      <td>./20220430_172634_jpg.rf.b24154405b5441b1d7307...</td>\n      <td>161</td>\n    </tr>\n    <tr>\n      <th>95</th>\n      <td>./20220430_172634_jpg.rf.ba8e2086d1c9720d5637a...</td>\n      <td>161</td>\n    </tr>\n    <tr>\n      <th>96</th>\n      <td>./20220430_172634_jpg.rf.cbc9226afd4fedd195ed7...</td>\n      <td>161</td>\n    </tr>\n    <tr>\n      <th>97</th>\n      <td>./20220430_172634_jpg.rf.f8765c163c666ffaa9cd1...</td>\n      <td>161</td>\n    </tr>\n  </tbody>\n</table>\n</div>"
     },
     "execution_count": 4,
     "metadata": {},
     "output_type": "execute_result"
    }
   ],
   "source": [
    "images = images[['Filepath','Weight']]\n",
    "images.tail()"
   ],
   "metadata": {
    "collapsed": false,
    "pycharm": {
     "name": "#%%\n"
    }
   }
  },
  {
   "cell_type": "code",
   "execution_count": 5,
   "outputs": [],
   "source": [
    "train_df, test_df = train_test_split(images, train_size=0.7, shuffle=True, random_state=1)"
   ],
   "metadata": {
    "collapsed": false,
    "pycharm": {
     "name": "#%%\n"
    }
   }
  },
  {
   "cell_type": "code",
   "execution_count": 6,
   "outputs": [],
   "source": [
    "train_generator = tf.keras.preprocessing.image.ImageDataGenerator(\n",
    "    rescale=1./255,\n",
    "    validation_split=0.2\n",
    ")\n",
    "\n",
    "test_generator = tf.keras.preprocessing.image.ImageDataGenerator(\n",
    "    rescale=1./255\n",
    ")"
   ],
   "metadata": {
    "collapsed": false,
    "pycharm": {
     "name": "#%%\n"
    }
   }
  },
  {
   "cell_type": "code",
   "execution_count": 7,
   "outputs": [
    {
     "name": "stdout",
     "output_type": "stream",
     "text": [
      "Found 55 validated image filenames.\n",
      "Found 13 validated image filenames.\n",
      "Found 30 validated image filenames.\n"
     ]
    }
   ],
   "source": [
    "train_images = train_generator.flow_from_dataframe(\n",
    "    dataframe=train_df,\n",
    "    x_col='Filepath',\n",
    "    y_col='Weight',\n",
    "    target_size=(120, 120),\n",
    "    color_mode='rgb',\n",
    "    class_mode='raw',\n",
    "    batch_size=32,\n",
    "    shuffle=True,\n",
    "    seed=42,\n",
    "    subset='training'\n",
    ")\n",
    "val_images = train_generator.flow_from_dataframe(\n",
    "    dataframe=train_df,\n",
    "    x_col='Filepath',\n",
    "    y_col='Weight',\n",
    "    target_size=(120, 120),\n",
    "    color_mode='rgb',\n",
    "    class_mode='raw',\n",
    "    batch_size=32,\n",
    "    shuffle=True,\n",
    "    seed=42,\n",
    "    subset='validation'\n",
    ")\n",
    "test_images = test_generator.flow_from_dataframe(\n",
    "    dataframe=test_df,\n",
    "    x_col='Filepath',\n",
    "    y_col='Weight',\n",
    "    target_size=(120, 120),\n",
    "    color_mode='rgb',\n",
    "    class_mode='raw',\n",
    "    batch_size=32,\n",
    "    shuffle=False\n",
    ")"
   ],
   "metadata": {
    "collapsed": false,
    "pycharm": {
     "name": "#%%\n"
    }
   }
  },
  {
   "cell_type": "code",
   "execution_count": 12,
   "outputs": [],
   "source": [
    "inputs = tf.keras.Input(shape=(120, 120, 3))\n",
    "x = tf.keras.layers.Conv2D(filters=16, kernel_size=(3, 3), activation='relu')(inputs)\n",
    "x = tf.keras.layers.MaxPool2D()(x)\n",
    "x = tf.keras.layers.Conv2D(filters=32, kernel_size=(3, 3), activation='relu')(x)\n",
    "x = tf.keras.layers.MaxPool2D()(x)\n",
    "x = tf.keras.layers.GlobalAveragePooling2D()(x)\n",
    "x = tf.keras.layers.Dense(64, activation='relu')(x)\n",
    "x = tf.keras.layers.Dense(64, activation='relu')(x)\n",
    "outputs = tf.keras.layers.Dense(1, activation='linear')(x)\n",
    "\n",
    "model = tf.keras.Model(inputs=inputs, outputs=outputs)"
   ],
   "metadata": {
    "collapsed": false,
    "pycharm": {
     "name": "#%%\n"
    }
   }
  },
  {
   "cell_type": "code",
   "execution_count": 13,
   "outputs": [
    {
     "name": "stdout",
     "output_type": "stream",
     "text": [
      "Model: \"model_2\"\n",
      "_________________________________________________________________\n",
      " Layer (type)                Output Shape              Param #   \n",
      "=================================================================\n",
      " input_3 (InputLayer)        [(None, 120, 120, 3)]     0         \n",
      "                                                                 \n",
      " conv2d_4 (Conv2D)           (None, 118, 118, 16)      448       \n",
      "                                                                 \n",
      " max_pooling2d_4 (MaxPooling  (None, 59, 59, 16)       0         \n",
      " 2D)                                                             \n",
      "                                                                 \n",
      " conv2d_5 (Conv2D)           (None, 57, 57, 32)        4640      \n",
      "                                                                 \n",
      " max_pooling2d_5 (MaxPooling  (None, 28, 28, 32)       0         \n",
      " 2D)                                                             \n",
      "                                                                 \n",
      " global_average_pooling2d_2   (None, 32)               0         \n",
      " (GlobalAveragePooling2D)                                        \n",
      "                                                                 \n",
      " dense_6 (Dense)             (None, 64)                2112      \n",
      "                                                                 \n",
      " dense_7 (Dense)             (None, 64)                4160      \n",
      "                                                                 \n",
      " dense_8 (Dense)             (None, 1)                 65        \n",
      "                                                                 \n",
      "=================================================================\n",
      "Total params: 11,425\n",
      "Trainable params: 11,425\n",
      "Non-trainable params: 0\n",
      "_________________________________________________________________\n"
     ]
    }
   ],
   "source": [
    "model.summary()"
   ],
   "metadata": {
    "collapsed": false,
    "pycharm": {
     "name": "#%%\n"
    }
   }
  },
  {
   "cell_type": "code",
   "execution_count": 25,
   "outputs": [],
   "source": [
    "model.compile(\n",
    "    optimizer=tf.optimizers.Adam(learning_rate=0.01),\n",
    "    loss='mse'\n",
    ")"
   ],
   "metadata": {
    "collapsed": false,
    "pycharm": {
     "name": "#%%\n"
    }
   }
  },
  {
   "cell_type": "code",
   "execution_count": 26,
   "outputs": [
    {
     "name": "stdout",
     "output_type": "stream",
     "text": [
      "Epoch 1/200\n",
      "2/2 [==============================] - 1s 298ms/step - loss: 2610.9995 - val_loss: 611.8718\n",
      "Epoch 2/200\n",
      "2/2 [==============================] - 0s 165ms/step - loss: 1211.4323 - val_loss: 1531.4377\n",
      "Epoch 3/200\n",
      "2/2 [==============================] - 0s 180ms/step - loss: 744.3281 - val_loss: 497.5287\n",
      "Epoch 4/200\n",
      "2/2 [==============================] - 0s 143ms/step - loss: 773.8289 - val_loss: 1333.6616\n",
      "Epoch 5/200\n",
      "2/2 [==============================] - 0s 160ms/step - loss: 978.5619 - val_loss: 247.5989\n",
      "Epoch 6/200\n",
      "2/2 [==============================] - 0s 160ms/step - loss: 183.3886 - val_loss: 566.5135\n",
      "Epoch 7/200\n",
      "2/2 [==============================] - 0s 153ms/step - loss: 699.0227 - val_loss: 350.3643\n",
      "Epoch 8/200\n",
      "2/2 [==============================] - 0s 135ms/step - loss: 334.2834 - val_loss: 251.2247\n",
      "Epoch 9/200\n",
      "2/2 [==============================] - 0s 142ms/step - loss: 331.9361 - val_loss: 520.4112\n",
      "Epoch 10/200\n",
      "2/2 [==============================] - 0s 176ms/step - loss: 396.3000 - val_loss: 160.8571\n",
      "Epoch 11/200\n",
      "2/2 [==============================] - 0s 153ms/step - loss: 125.8708 - val_loss: 230.6940\n",
      "Epoch 12/200\n",
      "2/2 [==============================] - 0s 139ms/step - loss: 315.8292 - val_loss: 231.0426\n",
      "Epoch 13/200\n",
      "2/2 [==============================] - 0s 150ms/step - loss: 211.6391 - val_loss: 133.6421\n",
      "Epoch 14/200\n",
      "2/2 [==============================] - 0s 165ms/step - loss: 177.0365 - val_loss: 288.6287\n",
      "Epoch 15/200\n",
      "2/2 [==============================] - 0s 139ms/step - loss: 248.5004 - val_loss: 139.3489\n",
      "Epoch 16/200\n",
      "2/2 [==============================] - 0s 146ms/step - loss: 142.3360 - val_loss: 151.2345\n",
      "Epoch 17/200\n",
      "2/2 [==============================] - 0s 146ms/step - loss: 187.9447 - val_loss: 139.7834\n",
      "Epoch 18/200\n",
      "2/2 [==============================] - 0s 186ms/step - loss: 135.5909 - val_loss: 131.4551\n",
      "Epoch 19/200\n",
      "2/2 [==============================] - 0s 171ms/step - loss: 143.9613 - val_loss: 162.1361\n",
      "Epoch 20/200\n",
      "2/2 [==============================] - 0s 185ms/step - loss: 145.3001 - val_loss: 103.5632\n",
      "Epoch 21/200\n",
      "2/2 [==============================] - 0s 190ms/step - loss: 119.0188 - val_loss: 113.6122\n",
      "Epoch 22/200\n",
      "2/2 [==============================] - 0s 185ms/step - loss: 130.2089 - val_loss: 103.9496\n",
      "Epoch 23/200\n",
      "2/2 [==============================] - 0s 143ms/step - loss: 115.3012 - val_loss: 117.2283\n",
      "Epoch 24/200\n",
      "2/2 [==============================] - 0s 145ms/step - loss: 121.8837 - val_loss: 109.7196\n",
      "Epoch 25/200\n",
      "2/2 [==============================] - 0s 129ms/step - loss: 117.8057 - val_loss: 103.5808\n",
      "Epoch 26/200\n",
      "2/2 [==============================] - 0s 163ms/step - loss: 116.4215 - val_loss: 103.3139\n",
      "Epoch 27/200\n",
      "2/2 [==============================] - 0s 223ms/step - loss: 115.5219 - val_loss: 106.2539\n",
      "Epoch 28/200\n",
      "2/2 [==============================] - 0s 149ms/step - loss: 115.1551 - val_loss: 107.2266\n",
      "Epoch 29/200\n",
      "2/2 [==============================] - 0s 144ms/step - loss: 115.5278 - val_loss: 105.0067\n",
      "Epoch 30/200\n",
      "2/2 [==============================] - 0s 192ms/step - loss: 117.2845 - val_loss: 103.2339\n",
      "Epoch 31/200\n",
      "2/2 [==============================] - 0s 173ms/step - loss: 115.3660 - val_loss: 104.5529\n",
      "Epoch 32/200\n",
      "2/2 [==============================] - 0s 143ms/step - loss: 114.7356 - val_loss: 107.6356\n",
      "Epoch 33/200\n",
      "2/2 [==============================] - 0s 168ms/step - loss: 116.3467 - val_loss: 105.1402\n",
      "Epoch 34/200\n",
      "2/2 [==============================] - 0s 151ms/step - loss: 114.1193 - val_loss: 103.1899\n",
      "Epoch 35/200\n",
      "2/2 [==============================] - 0s 147ms/step - loss: 119.6446 - val_loss: 103.1049\n",
      "Epoch 36/200\n",
      "2/2 [==============================] - 0s 139ms/step - loss: 114.3502 - val_loss: 112.3374\n",
      "Epoch 37/200\n",
      "2/2 [==============================] - 0s 173ms/step - loss: 122.7649 - val_loss: 118.7043\n",
      "Epoch 38/200\n",
      "2/2 [==============================] - 0s 140ms/step - loss: 119.1012 - val_loss: 103.0929\n",
      "Epoch 39/200\n",
      "2/2 [==============================] - 0s 219ms/step - loss: 118.0083 - val_loss: 104.3168\n",
      "Epoch 40/200\n",
      "2/2 [==============================] - 0s 146ms/step - loss: 117.4871 - val_loss: 107.0036\n",
      "Epoch 41/200\n",
      "2/2 [==============================] - 0s 166ms/step - loss: 115.2110 - val_loss: 110.5067\n",
      "Epoch 42/200\n",
      "2/2 [==============================] - 0s 161ms/step - loss: 117.1942 - val_loss: 105.4596\n",
      "Epoch 43/200\n",
      "2/2 [==============================] - 0s 137ms/step - loss: 117.8066 - val_loss: 103.0621\n",
      "Epoch 44/200\n",
      "2/2 [==============================] - 0s 137ms/step - loss: 119.4794 - val_loss: 105.2573\n",
      "Epoch 45/200\n",
      "2/2 [==============================] - 0s 166ms/step - loss: 114.7582 - val_loss: 103.7230\n",
      "Epoch 46/200\n",
      "2/2 [==============================] - 0s 159ms/step - loss: 115.1801 - val_loss: 103.7134\n",
      "Epoch 47/200\n",
      "2/2 [==============================] - 0s 145ms/step - loss: 117.3684 - val_loss: 103.2490\n",
      "Epoch 48/200\n",
      "2/2 [==============================] - 0s 142ms/step - loss: 115.1368 - val_loss: 109.3747\n",
      "Epoch 49/200\n",
      "2/2 [==============================] - 0s 181ms/step - loss: 125.5189 - val_loss: 116.1666\n",
      "Epoch 50/200\n",
      "2/2 [==============================] - 0s 143ms/step - loss: 120.3190 - val_loss: 103.6976\n",
      "Epoch 51/200\n",
      "2/2 [==============================] - 0s 184ms/step - loss: 118.3139 - val_loss: 102.9711\n",
      "Epoch 52/200\n",
      "2/2 [==============================] - 0s 154ms/step - loss: 114.0941 - val_loss: 108.4837\n",
      "Epoch 53/200\n",
      "2/2 [==============================] - 0s 177ms/step - loss: 117.3664 - val_loss: 108.2277\n",
      "Epoch 54/200\n",
      "2/2 [==============================] - 0s 144ms/step - loss: 115.4168 - val_loss: 102.6531\n",
      "Epoch 55/200\n",
      "2/2 [==============================] - 0s 180ms/step - loss: 118.1399 - val_loss: 102.6302\n",
      "Epoch 56/200\n",
      "2/2 [==============================] - 0s 181ms/step - loss: 121.0371 - val_loss: 115.0209\n",
      "Epoch 57/200\n",
      "2/2 [==============================] - 0s 174ms/step - loss: 117.6057 - val_loss: 102.8611\n",
      "Epoch 58/200\n",
      "2/2 [==============================] - 0s 175ms/step - loss: 131.8826 - val_loss: 102.5658\n",
      "Epoch 59/200\n",
      "2/2 [==============================] - 0s 149ms/step - loss: 111.5622 - val_loss: 124.5360\n",
      "Epoch 60/200\n",
      "2/2 [==============================] - 0s 158ms/step - loss: 128.8720 - val_loss: 110.1294\n",
      "Epoch 61/200\n",
      "2/2 [==============================] - 0s 141ms/step - loss: 119.1503 - val_loss: 108.4578\n",
      "Epoch 62/200\n",
      "2/2 [==============================] - 0s 168ms/step - loss: 122.6065 - val_loss: 105.2268\n",
      "Epoch 63/200\n",
      "2/2 [==============================] - 0s 177ms/step - loss: 120.2977 - val_loss: 116.8700\n",
      "Epoch 64/200\n",
      "2/2 [==============================] - 0s 140ms/step - loss: 125.9083 - val_loss: 102.3221\n",
      "Epoch 65/200\n",
      "2/2 [==============================] - 0s 188ms/step - loss: 116.5575 - val_loss: 105.0597\n",
      "Epoch 66/200\n",
      "2/2 [==============================] - 0s 188ms/step - loss: 114.3292 - val_loss: 103.5610\n",
      "Epoch 67/200\n",
      "2/2 [==============================] - 0s 144ms/step - loss: 118.7294 - val_loss: 102.5131\n",
      "Epoch 68/200\n",
      "2/2 [==============================] - 0s 142ms/step - loss: 116.7016 - val_loss: 102.5698\n",
      "Epoch 69/200\n",
      "2/2 [==============================] - 0s 138ms/step - loss: 117.0218 - val_loss: 111.1577\n",
      "Epoch 70/200\n",
      "2/2 [==============================] - 0s 141ms/step - loss: 120.6155 - val_loss: 117.8873\n",
      "Epoch 71/200\n",
      "2/2 [==============================] - 0s 180ms/step - loss: 116.3566 - val_loss: 103.3491\n",
      "Epoch 72/200\n",
      "2/2 [==============================] - 0s 157ms/step - loss: 119.0280 - val_loss: 102.3719\n",
      "Epoch 73/200\n",
      "2/2 [==============================] - 0s 147ms/step - loss: 115.4726 - val_loss: 109.8506\n",
      "Epoch 74/200\n",
      "2/2 [==============================] - 0s 139ms/step - loss: 119.0105 - val_loss: 104.7675\n",
      "Epoch 75/200\n",
      "2/2 [==============================] - 0s 180ms/step - loss: 112.9549 - val_loss: 102.2730\n",
      "Epoch 76/200\n",
      "2/2 [==============================] - 0s 146ms/step - loss: 119.4753 - val_loss: 101.8997\n",
      "Epoch 77/200\n",
      "2/2 [==============================] - 0s 172ms/step - loss: 129.4673 - val_loss: 101.8613\n",
      "Epoch 78/200\n",
      "2/2 [==============================] - 0s 163ms/step - loss: 118.2663 - val_loss: 120.6814\n",
      "Epoch 79/200\n",
      "2/2 [==============================] - 0s 165ms/step - loss: 123.5302 - val_loss: 101.8615\n",
      "Epoch 80/200\n",
      "2/2 [==============================] - 0s 210ms/step - loss: 133.3458 - val_loss: 108.8808\n",
      "Epoch 81/200\n",
      "2/2 [==============================] - 0s 213ms/step - loss: 127.3168 - val_loss: 132.4123\n",
      "Epoch 82/200\n",
      "2/2 [==============================] - 0s 164ms/step - loss: 130.0631 - val_loss: 103.8071\n",
      "Epoch 83/200\n",
      "2/2 [==============================] - 0s 144ms/step - loss: 116.2219 - val_loss: 103.9239\n",
      "Epoch 84/200\n",
      "2/2 [==============================] - 0s 192ms/step - loss: 117.4812 - val_loss: 106.7552\n",
      "Epoch 85/200\n",
      "2/2 [==============================] - 0s 199ms/step - loss: 123.9436 - val_loss: 114.8972\n",
      "Epoch 86/200\n",
      "2/2 [==============================] - 0s 190ms/step - loss: 120.9209 - val_loss: 105.6343\n",
      "Epoch 87/200\n",
      "2/2 [==============================] - 0s 199ms/step - loss: 119.9966 - val_loss: 104.7273\n",
      "Epoch 88/200\n",
      "2/2 [==============================] - 0s 192ms/step - loss: 126.9988 - val_loss: 115.8221\n",
      "Epoch 89/200\n",
      "2/2 [==============================] - 0s 192ms/step - loss: 121.1674 - val_loss: 106.2849\n",
      "Epoch 90/200\n",
      "2/2 [==============================] - 0s 195ms/step - loss: 129.7988 - val_loss: 102.8278\n",
      "Epoch 91/200\n",
      "2/2 [==============================] - 0s 199ms/step - loss: 172.5706 - val_loss: 149.5577\n",
      "Epoch 92/200\n",
      "2/2 [==============================] - 0s 145ms/step - loss: 147.3859 - val_loss: 117.7337\n",
      "Epoch 93/200\n",
      "2/2 [==============================] - 0s 145ms/step - loss: 134.9147 - val_loss: 103.8775\n",
      "Epoch 94/200\n",
      "2/2 [==============================] - 0s 147ms/step - loss: 117.1905 - val_loss: 124.3359\n",
      "Epoch 95/200\n",
      "2/2 [==============================] - 0s 148ms/step - loss: 120.1001 - val_loss: 103.6276\n",
      "Epoch 96/200\n",
      "2/2 [==============================] - 0s 191ms/step - loss: 130.0235 - val_loss: 102.3867\n",
      "Epoch 97/200\n",
      "2/2 [==============================] - 0s 140ms/step - loss: 116.1853 - val_loss: 129.0316\n",
      "Epoch 98/200\n",
      "2/2 [==============================] - 0s 187ms/step - loss: 131.9095 - val_loss: 102.3012\n",
      "Epoch 99/200\n",
      "2/2 [==============================] - 0s 180ms/step - loss: 142.7183 - val_loss: 112.7295\n",
      "Epoch 100/200\n",
      "2/2 [==============================] - 0s 205ms/step - loss: 124.7002 - val_loss: 136.7488\n",
      "Epoch 101/200\n",
      "2/2 [==============================] - 0s 243ms/step - loss: 136.6187 - val_loss: 103.4326\n",
      "Epoch 102/200\n",
      "2/2 [==============================] - 0s 236ms/step - loss: 132.2558 - val_loss: 113.9217\n",
      "Epoch 103/200\n",
      "2/2 [==============================] - 0s 151ms/step - loss: 126.8643 - val_loss: 126.5786\n",
      "Epoch 104/200\n",
      "2/2 [==============================] - 0s 183ms/step - loss: 130.0131 - val_loss: 105.3296\n",
      "Epoch 105/200\n",
      "2/2 [==============================] - 0s 188ms/step - loss: 132.9270 - val_loss: 110.0009\n",
      "Epoch 106/200\n",
      "2/2 [==============================] - 0s 139ms/step - loss: 127.6966 - val_loss: 120.6716\n",
      "Epoch 107/200\n",
      "2/2 [==============================] - 0s 137ms/step - loss: 123.2461 - val_loss: 103.4588\n",
      "Epoch 108/200\n",
      "2/2 [==============================] - 0s 150ms/step - loss: 113.2995 - val_loss: 100.8422\n",
      "Epoch 109/200\n",
      "2/2 [==============================] - 0s 182ms/step - loss: 115.2068 - val_loss: 103.1970\n",
      "Epoch 110/200\n",
      "2/2 [==============================] - 0s 147ms/step - loss: 122.2435 - val_loss: 105.2336\n",
      "Epoch 111/200\n",
      "2/2 [==============================] - 0s 148ms/step - loss: 111.6657 - val_loss: 107.3527\n",
      "Epoch 112/200\n",
      "2/2 [==============================] - 0s 170ms/step - loss: 124.9819 - val_loss: 101.2639\n",
      "Epoch 113/200\n",
      "2/2 [==============================] - 0s 191ms/step - loss: 112.3228 - val_loss: 111.0047\n",
      "Epoch 114/200\n",
      "2/2 [==============================] - 0s 154ms/step - loss: 118.2926 - val_loss: 104.7251\n",
      "Epoch 115/200\n",
      "2/2 [==============================] - 0s 165ms/step - loss: 113.2855 - val_loss: 100.7909\n",
      "Epoch 116/200\n",
      "2/2 [==============================] - 0s 230ms/step - loss: 130.5697 - val_loss: 100.4096\n",
      "Epoch 117/200\n",
      "2/2 [==============================] - 0s 183ms/step - loss: 141.2130 - val_loss: 129.7702\n",
      "Epoch 118/200\n",
      "2/2 [==============================] - 0s 183ms/step - loss: 119.3486 - val_loss: 108.9147\n",
      "Epoch 119/200\n",
      "2/2 [==============================] - 0s 155ms/step - loss: 127.2034 - val_loss: 100.9620\n",
      "Epoch 120/200\n",
      "2/2 [==============================] - 0s 182ms/step - loss: 113.3230 - val_loss: 114.3773\n",
      "Epoch 121/200\n",
      "2/2 [==============================] - 0s 156ms/step - loss: 118.4119 - val_loss: 100.1722\n",
      "Epoch 122/200\n",
      "2/2 [==============================] - 0s 199ms/step - loss: 116.2543 - val_loss: 100.6989\n",
      "Epoch 123/200\n",
      "2/2 [==============================] - 0s 194ms/step - loss: 113.0739 - val_loss: 106.1275\n",
      "Epoch 124/200\n",
      "2/2 [==============================] - 0s 175ms/step - loss: 114.1816 - val_loss: 102.4897\n",
      "Epoch 125/200\n",
      "2/2 [==============================] - 0s 175ms/step - loss: 123.2109 - val_loss: 100.1261\n",
      "Epoch 126/200\n",
      "2/2 [==============================] - 0s 185ms/step - loss: 136.8404 - val_loss: 119.8156\n",
      "Epoch 127/200\n",
      "2/2 [==============================] - 0s 179ms/step - loss: 137.6001 - val_loss: 101.1356\n",
      "Epoch 128/200\n",
      "2/2 [==============================] - 0s 163ms/step - loss: 116.6868 - val_loss: 110.6529\n",
      "Epoch 129/200\n",
      "2/2 [==============================] - 0s 189ms/step - loss: 116.5557 - val_loss: 100.4246\n",
      "Epoch 130/200\n",
      "2/2 [==============================] - 0s 140ms/step - loss: 114.3822 - val_loss: 100.0946\n",
      "Epoch 131/200\n",
      "2/2 [==============================] - 0s 163ms/step - loss: 113.5403 - val_loss: 109.0150\n",
      "Epoch 132/200\n",
      "2/2 [==============================] - 0s 138ms/step - loss: 115.2029 - val_loss: 100.6985\n",
      "Epoch 133/200\n",
      "2/2 [==============================] - 0s 146ms/step - loss: 112.1560 - val_loss: 99.6606\n",
      "Epoch 134/200\n",
      "2/2 [==============================] - 0s 143ms/step - loss: 119.4480 - val_loss: 99.8929\n",
      "Epoch 135/200\n",
      "2/2 [==============================] - 0s 184ms/step - loss: 112.6704 - val_loss: 99.7621\n",
      "Epoch 136/200\n",
      "2/2 [==============================] - 0s 192ms/step - loss: 117.9562 - val_loss: 100.9853\n",
      "Epoch 137/200\n",
      "2/2 [==============================] - 0s 175ms/step - loss: 129.0312 - val_loss: 112.2799\n",
      "Epoch 138/200\n",
      "2/2 [==============================] - 0s 173ms/step - loss: 114.3403 - val_loss: 105.3993\n",
      "Epoch 139/200\n",
      "2/2 [==============================] - 0s 152ms/step - loss: 124.5811 - val_loss: 102.8740\n",
      "Epoch 140/200\n",
      "2/2 [==============================] - 0s 167ms/step - loss: 113.3761 - val_loss: 101.4173\n",
      "Epoch 141/200\n",
      "2/2 [==============================] - 0s 152ms/step - loss: 112.5764 - val_loss: 99.3011\n",
      "Epoch 142/200\n",
      "2/2 [==============================] - 0s 167ms/step - loss: 115.1776 - val_loss: 108.5557\n",
      "Epoch 143/200\n",
      "2/2 [==============================] - 0s 147ms/step - loss: 115.7665 - val_loss: 107.6168\n",
      "Epoch 144/200\n",
      "2/2 [==============================] - 0s 196ms/step - loss: 113.5541 - val_loss: 99.5261\n",
      "Epoch 145/200\n",
      "2/2 [==============================] - 0s 169ms/step - loss: 116.9959 - val_loss: 99.8221\n",
      "Epoch 146/200\n",
      "2/2 [==============================] - 0s 217ms/step - loss: 121.9345 - val_loss: 104.2563\n",
      "Epoch 147/200\n",
      "2/2 [==============================] - 0s 155ms/step - loss: 116.7799 - val_loss: 100.5889\n",
      "Epoch 148/200\n",
      "2/2 [==============================] - 0s 190ms/step - loss: 127.9958 - val_loss: 98.9822\n",
      "Epoch 149/200\n",
      "2/2 [==============================] - 0s 194ms/step - loss: 128.4387 - val_loss: 126.9626\n",
      "Epoch 150/200\n",
      "2/2 [==============================] - 0s 211ms/step - loss: 133.0154 - val_loss: 107.9054\n",
      "Epoch 151/200\n",
      "2/2 [==============================] - 0s 155ms/step - loss: 122.8187 - val_loss: 118.9335\n",
      "Epoch 152/200\n",
      "2/2 [==============================] - 0s 187ms/step - loss: 126.8751 - val_loss: 107.4272\n",
      "Epoch 153/200\n",
      "2/2 [==============================] - 0s 183ms/step - loss: 109.2123 - val_loss: 104.4095\n",
      "Epoch 154/200\n",
      "2/2 [==============================] - 0s 154ms/step - loss: 121.2877 - val_loss: 102.9165\n",
      "Epoch 155/200\n",
      "2/2 [==============================] - 0s 145ms/step - loss: 117.6085 - val_loss: 105.5235\n",
      "Epoch 156/200\n",
      "2/2 [==============================] - 0s 153ms/step - loss: 114.2889 - val_loss: 100.8605\n",
      "Epoch 157/200\n",
      "2/2 [==============================] - 0s 202ms/step - loss: 122.1218 - val_loss: 106.4178\n",
      "Epoch 158/200\n",
      "2/2 [==============================] - 0s 160ms/step - loss: 113.6291 - val_loss: 118.9341\n",
      "Epoch 159/200\n",
      "2/2 [==============================] - 0s 176ms/step - loss: 117.4796 - val_loss: 100.6166\n",
      "Epoch 160/200\n",
      "2/2 [==============================] - 0s 189ms/step - loss: 124.9469 - val_loss: 99.0653\n",
      "Epoch 161/200\n",
      "2/2 [==============================] - 0s 193ms/step - loss: 149.0556 - val_loss: 124.4928\n",
      "Epoch 162/200\n",
      "2/2 [==============================] - 0s 180ms/step - loss: 146.6095 - val_loss: 116.9363\n",
      "Epoch 163/200\n",
      "2/2 [==============================] - 0s 143ms/step - loss: 136.7295 - val_loss: 126.3977\n",
      "Epoch 164/200\n",
      "2/2 [==============================] - 0s 283ms/step - loss: 131.9889 - val_loss: 98.2469\n",
      "Epoch 165/200\n",
      "2/2 [==============================] - 0s 263ms/step - loss: 147.8189 - val_loss: 101.9355\n",
      "Epoch 166/200\n",
      "2/2 [==============================] - 1s 322ms/step - loss: 111.4823 - val_loss: 143.5028\n",
      "Epoch 167/200\n",
      "2/2 [==============================] - 0s 196ms/step - loss: 134.4439 - val_loss: 99.2720\n",
      "Epoch 168/200\n",
      "2/2 [==============================] - 0s 184ms/step - loss: 121.3506 - val_loss: 100.0546\n",
      "Epoch 169/200\n",
      "2/2 [==============================] - 0s 198ms/step - loss: 110.4542 - val_loss: 120.5863\n",
      "Epoch 170/200\n",
      "2/2 [==============================] - 0s 223ms/step - loss: 122.8899 - val_loss: 98.1375\n",
      "Epoch 171/200\n",
      "2/2 [==============================] - 0s 166ms/step - loss: 118.2833 - val_loss: 98.8447\n",
      "Epoch 172/200\n",
      "2/2 [==============================] - 0s 168ms/step - loss: 121.6954 - val_loss: 115.1000\n",
      "Epoch 173/200\n",
      "2/2 [==============================] - 0s 208ms/step - loss: 114.0740 - val_loss: 99.8445\n",
      "Epoch 174/200\n",
      "2/2 [==============================] - 0s 227ms/step - loss: 117.5954 - val_loss: 98.5822\n",
      "Epoch 175/200\n",
      "2/2 [==============================] - 0s 168ms/step - loss: 111.7686 - val_loss: 108.6048\n",
      "Epoch 176/200\n",
      "2/2 [==============================] - 0s 216ms/step - loss: 112.7136 - val_loss: 98.0519\n",
      "Epoch 177/200\n",
      "2/2 [==============================] - 0s 183ms/step - loss: 113.5942 - val_loss: 98.3832\n",
      "Epoch 178/200\n",
      "2/2 [==============================] - 0s 216ms/step - loss: 110.6588 - val_loss: 102.6337\n",
      "Epoch 179/200\n",
      "2/2 [==============================] - 0s 233ms/step - loss: 115.0469 - val_loss: 98.3778\n",
      "Epoch 180/200\n",
      "2/2 [==============================] - 0s 152ms/step - loss: 111.5759 - val_loss: 100.6467\n",
      "Epoch 181/200\n",
      "2/2 [==============================] - 0s 196ms/step - loss: 113.5026 - val_loss: 97.5983\n",
      "Epoch 182/200\n",
      "2/2 [==============================] - 0s 169ms/step - loss: 111.5538 - val_loss: 97.3792\n",
      "Epoch 183/200\n",
      "2/2 [==============================] - 0s 178ms/step - loss: 121.9276 - val_loss: 99.5124\n",
      "Epoch 184/200\n",
      "2/2 [==============================] - 0s 154ms/step - loss: 147.1705 - val_loss: 101.0931\n",
      "Epoch 185/200\n",
      "2/2 [==============================] - 0s 220ms/step - loss: 113.4145 - val_loss: 121.0063\n",
      "Epoch 186/200\n",
      "2/2 [==============================] - 0s 158ms/step - loss: 116.4338 - val_loss: 104.6821\n",
      "Epoch 187/200\n",
      "2/2 [==============================] - 0s 163ms/step - loss: 124.2461 - val_loss: 103.5263\n",
      "Epoch 188/200\n",
      "2/2 [==============================] - 0s 185ms/step - loss: 127.5823 - val_loss: 104.8147\n",
      "Epoch 189/200\n",
      "2/2 [==============================] - 0s 175ms/step - loss: 125.1022 - val_loss: 102.5032\n",
      "Epoch 190/200\n",
      "2/2 [==============================] - 0s 194ms/step - loss: 125.7153 - val_loss: 127.8763\n",
      "Epoch 191/200\n",
      "2/2 [==============================] - 0s 213ms/step - loss: 122.2458 - val_loss: 100.9928\n",
      "Epoch 192/200\n",
      "2/2 [==============================] - 0s 198ms/step - loss: 116.6699 - val_loss: 102.6267\n",
      "Epoch 193/200\n",
      "2/2 [==============================] - 0s 184ms/step - loss: 111.5779 - val_loss: 99.3420\n",
      "Epoch 194/200\n",
      "2/2 [==============================] - 0s 191ms/step - loss: 110.9059 - val_loss: 96.7660\n",
      "Epoch 195/200\n",
      "2/2 [==============================] - 0s 324ms/step - loss: 111.7794 - val_loss: 97.9008\n",
      "Epoch 196/200\n",
      "2/2 [==============================] - 1s 238ms/step - loss: 109.9241 - val_loss: 104.7953\n",
      "Epoch 197/200\n",
      "2/2 [==============================] - 0s 240ms/step - loss: 114.3004 - val_loss: 96.5966\n",
      "Epoch 198/200\n",
      "2/2 [==============================] - 0s 186ms/step - loss: 113.2228 - val_loss: 99.3023\n",
      "Epoch 199/200\n",
      "2/2 [==============================] - 0s 184ms/step - loss: 118.4109 - val_loss: 106.6993\n",
      "Epoch 200/200\n",
      "2/2 [==============================] - 0s 313ms/step - loss: 119.1984 - val_loss: 103.1612\n"
     ]
    }
   ],
   "source": [
    "history = model.fit(\n",
    "    train_images,\n",
    "    validation_data=val_images,\n",
    "    epochs=200,\n",
    "    # callbacks=[\n",
    "    #     tf.keras.callbacks.EarlyStopping(\n",
    "    #         monitor='val_loss',\n",
    "    #         patience=5,\n",
    "    #         restore_best_weights=True\n",
    "    #     )\n",
    "    # ]\n",
    ")"
   ],
   "metadata": {
    "collapsed": false,
    "pycharm": {
     "name": "#%%\n"
    }
   }
  },
  {
   "cell_type": "code",
   "execution_count": 21,
   "outputs": [],
   "source": [
    "def plot_loss(history):\n",
    "  plt.plot(history.history['loss'], label='loss')\n",
    "  # plt.plot(history.history['val_loss'], label='val_loss')\n",
    "  # plt.ylim([0, 10])\n",
    "  plt.xlabel('Epoch')\n",
    "  plt.ylabel('Error')\n",
    "  plt.legend()\n",
    "  plt.grid(True)"
   ],
   "metadata": {
    "collapsed": false,
    "pycharm": {
     "name": "#%%\n"
    }
   }
  },
  {
   "cell_type": "code",
   "execution_count": 27,
   "outputs": [
    {
     "data": {
      "text/plain": "<Figure size 432x288 with 1 Axes>",
      "image/png": "[encoded data removed]"
     },
     "metadata": {
      "needs_background": "light"
     },
     "output_type": "display_data"
    }
   ],
   "source": [
    "plot_loss(history)"
   ],
   "metadata": {
    "collapsed": false,
    "pycharm": {
     "name": "#%%\n"
    }
   }
  },
  {
   "cell_type": "code",
   "execution_count": 28,
   "outputs": [
    {
     "name": "stdout",
     "output_type": "stream",
     "text": [
      "     Test RMSE: 8.50053\n",
      "Test R^2 Score: -0.32353\n"
     ]
    }
   ],
   "source": [
    "predicted_weight = np.squeeze(model.predict(test_images))\n",
    "true_ages = test_images.labels\n",
    "\n",
    "rmse = np.sqrt(model.evaluate(test_images, verbose=0))\n",
    "print(\"     Test RMSE: {:.5f}\".format(rmse))\n",
    "\n",
    "r2 = r2_score(true_ages, predicted_weight)\n",
    "print(\"Test R^2 Score: {:.5f}\".format(r2))"
   ],
   "metadata": {
    "collapsed": false,
    "pycharm": {
     "name": "#%%\n"
    }
   }
  },
  {
   "cell_type": "code",
   "execution_count": 29,
   "outputs": [
    {
     "name": "stdout",
     "output_type": "stream",
     "text": [
      "Null/Baseline Model Test RMSE: 7.38888\n"
     ]
    }
   ],
   "source": [
    "null_rmse = np.sqrt(np.sum((true_ages - np.mean(true_ages))**2) / len(true_ages))\n",
    "print(\"Null/Baseline Model Test RMSE: {:.5f}\".format(null_rmse))"
   ],
   "metadata": {
    "collapsed": false,
    "pycharm": {
     "name": "#%%\n"
    }
   }
  }
 ],
 "metadata": {
  "kernelspec": {
   "display_name": "Python 3",
   "language": "python",
   "name": "python3"
  },
  "language_info": {
   "codemirror_mode": {
    "name": "ipython",
    "version": 2
   },
   "file_extension": ".py",
   "mimetype": "text/x-python",
   "name": "python",
   "nbconvert_exporter": "python",
   "pygments_lexer": "ipython2",
   "version": "2.7.6"
  }
 },
 "nbformat": 4,
 "nbformat_minor": 0
}