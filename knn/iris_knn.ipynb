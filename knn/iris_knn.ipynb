{
 "nbformat": 4,
 "nbformat_minor": 0,
 "metadata": {
  "colab": {
   "name": "[ML] iris.ipynb",
   "provenance": []
  },
  "kernelspec": {
   "name": "python3",
   "display_name": "Python 3"
  },
  "language_info": {
   "name": "python"
  }
 },
 "cells": [
  {
   "cell_type": "code",
   "execution_count": 29,
   "metadata": {
    "id": "-dxJ65laUodw"
   },
   "outputs": [],
   "source": [
    "import pandas as pd\n",
    "import numpy as np\n",
    "import matplotlib.pyplot as plt"
   ]
  },
  {
   "cell_type": "code",
   "execution_count": 30,
   "outputs": [],
   "source": [
    "df = pd.read_excel('./knn.xlsx')"
   ],
   "metadata": {
    "collapsed": false,
    "pycharm": {
     "name": "#%%\n"
    }
   }
  },
  {
   "cell_type": "code",
   "source": [
    "X = df.iloc[:, :4].values\n",
    "Y = df.iloc[:, -1].values\n",
    "classes = np.unique(Y)"
   ],
   "metadata": {
    "id": "F9PvPFSXU_b6"
   },
   "execution_count": 31,
   "outputs": []
  },
  {
   "cell_type": "code",
   "source": [
    "Xtrain, Ytrain = X[:8], Y[:8]\n",
    "Xtest, Ytest = X[8:], Y[8:]"
   ],
   "metadata": {
    "id": "7L3tprHsfi8n"
   },
   "execution_count": 32,
   "outputs": []
  },
  {
   "cell_type": "code",
   "execution_count": 33,
   "outputs": [
    {
     "data": {
      "text/plain": "array([[1, 1, 4, 4],\n       [3, 0, 5, 1],\n       [1, 0, 0, 5],\n       [2, 5, 0, 1],\n       [2, 1, 1, 2],\n       [4, 3, 3, 3],\n       [0, 1, 0, 2],\n       [3, 4, 4, 4]], dtype=int64)"
     },
     "execution_count": 33,
     "metadata": {},
     "output_type": "execute_result"
    }
   ],
   "source": [
    "Xtrain"
   ],
   "metadata": {
    "collapsed": false,
    "pycharm": {
     "name": "#%%\n"
    }
   }
  },
  {
   "cell_type": "code",
   "execution_count": 34,
   "outputs": [
    {
     "data": {
      "text/plain": "array([[4, 1, 4, 3],\n       [3, 1, 3, 3],\n       [2, 1, 2, 1],\n       [3, 2, 3, 4],\n       [1, 5, 3, 1],\n       [4, 2, 0, 1],\n       [1, 1, 4, 3],\n       [3, 0, 0, 0]], dtype=int64)"
     },
     "execution_count": 34,
     "metadata": {},
     "output_type": "execute_result"
    }
   ],
   "source": [
    "Xtest"
   ],
   "metadata": {
    "collapsed": false,
    "pycharm": {
     "name": "#%%\n"
    }
   }
  },
  {
   "cell_type": "code",
   "source": [
    "from collections import Counter\n",
    "def knn(x, X, Y, k=1):\n",
    "    i = np.argsort(np.sqrt(np.sum(abs(X-x)**2, axis=1)))[:k]\n",
    "\n",
    "\n",
    "    d = dict(Counter(Y[i]))\n",
    "    k = np.array(list(d.keys()))\n",
    "    j = np.argsort(k)\n",
    "    k = k[j]\n",
    "    v = np.array(list(d.values()))\n",
    "    v = v[j]\n",
    "    return k[np.argmax(v)]"
   ],
   "metadata": {
    "id": "Yz0ZszlVds2L"
   },
   "execution_count": 37,
   "outputs": []
  },
  {
   "cell_type": "code",
   "source": [
    "acc = np.zeros(len(Xtest))\n",
    "K = np.arange(1, len(Xtest)+1)\n",
    "for k in K:\n",
    "  print('---')\n",
    "  correct = 0\n",
    "  for x,y in zip(Xtest, Ytest):\n",
    "    z = knn(x, Xtrain, Ytrain,k)\n",
    "    if z == y :\n",
    "      correct += 1\n",
    "  acc[k-1] = correct/len(Xtest)\n",
    "\n",
    "plt.xlabel('k')\n",
    "plt.ylabel('accuracy')\n",
    "plt.plot(K, acc)\n",
    "print(acc)"
   ],
   "metadata": {
    "colab": {
     "base_uri": "https://localhost:8080/",
     "height": 505
    },
    "id": "sohdKVhbgiL-",
    "outputId": "1df37ac4-d596-479f-ebe8-a8c38ef223b2"
   },
   "execution_count": 38,
   "outputs": [
    {
     "name": "stdout",
     "output_type": "stream",
     "text": [
      "---\n",
      "---\n",
      "---\n",
      "---\n",
      "---\n",
      "---\n",
      "---\n",
      "---\n",
      "[0.25  0.375 0.25  0.25  0.25  0.375 0.125 0.25 ]\n"
     ]
    },
    {
     "data": {
      "text/plain": "<Figure size 432x288 with 1 Axes>",
      "image/png": "[encoded data removed]"
     },
     "metadata": {
      "needs_background": "light"
     },
     "output_type": "display_data"
    }
   ]
  }
 ]
}