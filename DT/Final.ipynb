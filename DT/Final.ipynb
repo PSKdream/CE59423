{
 "cells": [
  {
   "cell_type": "code",
   "execution_count": 15,
   "metadata": {
    "collapsed": true
   },
   "outputs": [],
   "source": [
    "import numpy as np\n",
    "import pandas as pd"
   ]
  },
  {
   "cell_type": "code",
   "execution_count": 16,
   "outputs": [
    {
     "data": {
      "text/plain": "    A1  A2  A3  A4 target\n0    1   1   4   4      B\n1    3   0   5   1      C\n2    1   0   0   5      B\n3    2   5   0   1      C\n4    2   1   1   2      D\n5    4   3   3   3      A\n6    0   1   0   2      D\n7    3   4   4   4      A\n8    4   1   4   3      D\n9    3   1   3   3      A\n10   2   1   2   1      A\n11   3   2   3   4      D\n12   1   5   3   1      B\n13   4   2   0   1      C\n14   1   1   4   3      B\n15   3   0   0   0      C",
      "text/html": "<div>\n<style scoped>\n    .dataframe tbody tr th:only-of-type {\n        vertical-align: middle;\n    }\n\n    .dataframe tbody tr th {\n        vertical-align: top;\n    }\n\n    .dataframe thead th {\n        text-align: right;\n    }\n</style>\n<table border=\"1\" class=\"dataframe\">\n  <thead>\n    <tr style=\"text-align: right;\">\n      <th></th>\n      <th>A1</th>\n      <th>A2</th>\n      <th>A3</th>\n      <th>A4</th>\n      <th>target</th>\n    </tr>\n  </thead>\n  <tbody>\n    <tr>\n      <th>0</th>\n      <td>1</td>\n      <td>1</td>\n      <td>4</td>\n      <td>4</td>\n      <td>B</td>\n    </tr>\n    <tr>\n      <th>1</th>\n      <td>3</td>\n      <td>0</td>\n      <td>5</td>\n      <td>1</td>\n      <td>C</td>\n    </tr>\n    <tr>\n      <th>2</th>\n      <td>1</td>\n      <td>0</td>\n      <td>0</td>\n      <td>5</td>\n      <td>B</td>\n    </tr>\n    <tr>\n      <th>3</th>\n      <td>2</td>\n      <td>5</td>\n      <td>0</td>\n      <td>1</td>\n      <td>C</td>\n    </tr>\n    <tr>\n      <th>4</th>\n      <td>2</td>\n      <td>1</td>\n      <td>1</td>\n      <td>2</td>\n      <td>D</td>\n    </tr>\n    <tr>\n      <th>5</th>\n      <td>4</td>\n      <td>3</td>\n      <td>3</td>\n      <td>3</td>\n      <td>A</td>\n    </tr>\n    <tr>\n      <th>6</th>\n      <td>0</td>\n      <td>1</td>\n      <td>0</td>\n      <td>2</td>\n      <td>D</td>\n    </tr>\n    <tr>\n      <th>7</th>\n      <td>3</td>\n      <td>4</td>\n      <td>4</td>\n      <td>4</td>\n      <td>A</td>\n    </tr>\n    <tr>\n      <th>8</th>\n      <td>4</td>\n      <td>1</td>\n      <td>4</td>\n      <td>3</td>\n      <td>D</td>\n    </tr>\n    <tr>\n      <th>9</th>\n      <td>3</td>\n      <td>1</td>\n      <td>3</td>\n      <td>3</td>\n      <td>A</td>\n    </tr>\n    <tr>\n      <th>10</th>\n      <td>2</td>\n      <td>1</td>\n      <td>2</td>\n      <td>1</td>\n      <td>A</td>\n    </tr>\n    <tr>\n      <th>11</th>\n      <td>3</td>\n      <td>2</td>\n      <td>3</td>\n      <td>4</td>\n      <td>D</td>\n    </tr>\n    <tr>\n      <th>12</th>\n      <td>1</td>\n      <td>5</td>\n      <td>3</td>\n      <td>1</td>\n      <td>B</td>\n    </tr>\n    <tr>\n      <th>13</th>\n      <td>4</td>\n      <td>2</td>\n      <td>0</td>\n      <td>1</td>\n      <td>C</td>\n    </tr>\n    <tr>\n      <th>14</th>\n      <td>1</td>\n      <td>1</td>\n      <td>4</td>\n      <td>3</td>\n      <td>B</td>\n    </tr>\n    <tr>\n      <th>15</th>\n      <td>3</td>\n      <td>0</td>\n      <td>0</td>\n      <td>0</td>\n      <td>C</td>\n    </tr>\n  </tbody>\n</table>\n</div>"
     },
     "execution_count": 16,
     "metadata": {},
     "output_type": "execute_result"
    }
   ],
   "source": [
    "df = pd.read_excel('./knn.xlsx')\n",
    "df"
   ],
   "metadata": {
    "collapsed": false,
    "pycharm": {
     "name": "#%%\n"
    }
   }
  },
  {
   "cell_type": "code",
   "execution_count": 26,
   "outputs": [],
   "source": [
    "Xtrain = df.iloc[:8,:-1]\n",
    "Xtest = df.iloc[8:,:-1]"
   ],
   "metadata": {
    "collapsed": false,
    "pycharm": {
     "name": "#%%\n"
    }
   }
  },
  {
   "cell_type": "code",
   "execution_count": 27,
   "outputs": [
    {
     "data": {
      "text/plain": "    A1  A2  A3  A4\n8    4   1   4   3\n9    3   1   3   3\n10   2   1   2   1\n11   3   2   3   4\n12   1   5   3   1\n13   4   2   0   1\n14   1   1   4   3\n15   3   0   0   0",
      "text/html": "<div>\n<style scoped>\n    .dataframe tbody tr th:only-of-type {\n        vertical-align: middle;\n    }\n\n    .dataframe tbody tr th {\n        vertical-align: top;\n    }\n\n    .dataframe thead th {\n        text-align: right;\n    }\n</style>\n<table border=\"1\" class=\"dataframe\">\n  <thead>\n    <tr style=\"text-align: right;\">\n      <th></th>\n      <th>A1</th>\n      <th>A2</th>\n      <th>A3</th>\n      <th>A4</th>\n    </tr>\n  </thead>\n  <tbody>\n    <tr>\n      <th>8</th>\n      <td>4</td>\n      <td>1</td>\n      <td>4</td>\n      <td>3</td>\n    </tr>\n    <tr>\n      <th>9</th>\n      <td>3</td>\n      <td>1</td>\n      <td>3</td>\n      <td>3</td>\n    </tr>\n    <tr>\n      <th>10</th>\n      <td>2</td>\n      <td>1</td>\n      <td>2</td>\n      <td>1</td>\n    </tr>\n    <tr>\n      <th>11</th>\n      <td>3</td>\n      <td>2</td>\n      <td>3</td>\n      <td>4</td>\n    </tr>\n    <tr>\n      <th>12</th>\n      <td>1</td>\n      <td>5</td>\n      <td>3</td>\n      <td>1</td>\n    </tr>\n    <tr>\n      <th>13</th>\n      <td>4</td>\n      <td>2</td>\n      <td>0</td>\n      <td>1</td>\n    </tr>\n    <tr>\n      <th>14</th>\n      <td>1</td>\n      <td>1</td>\n      <td>4</td>\n      <td>3</td>\n    </tr>\n    <tr>\n      <th>15</th>\n      <td>3</td>\n      <td>0</td>\n      <td>0</td>\n      <td>0</td>\n    </tr>\n  </tbody>\n</table>\n</div>"
     },
     "execution_count": 27,
     "metadata": {},
     "output_type": "execute_result"
    }
   ],
   "source": [
    "Xtest"
   ],
   "metadata": {
    "collapsed": false,
    "pycharm": {
     "name": "#%%\n"
    }
   }
  },
  {
   "cell_type": "code",
   "execution_count": 19,
   "outputs": [
    {
     "name": "stdout",
     "output_type": "stream",
     "text": [
      "ID :  3\n",
      "0    12\n",
      "1    11\n",
      "2    10\n",
      "dtype: int64\n",
      "ID :  4\n",
      "0    6\n",
      "1    7\n",
      "2    6\n",
      "dtype: int64\n",
      "ID :  5\n",
      "0     7\n",
      "1     8\n",
      "2    11\n",
      "dtype: int64\n",
      "ID :  6\n",
      "0     7\n",
      "1    10\n",
      "2     5\n",
      "dtype: int64\n",
      "ID :  7\n",
      "0     5\n",
      "1     8\n",
      "2    11\n",
      "dtype: int64\n",
      "ID :  8\n",
      "0     4\n",
      "1     5\n",
      "2    10\n",
      "dtype: int64\n",
      "ID :  9\n",
      "0    4\n",
      "1    5\n",
      "2    8\n",
      "dtype: int64\n",
      "ID :  10\n",
      "0    6\n",
      "1    5\n",
      "2    8\n",
      "dtype: int64\n",
      "ID :  11\n",
      "0    4\n",
      "1    7\n",
      "2    8\n",
      "dtype: int64\n",
      "ID :  12\n",
      "0     8\n",
      "1     9\n",
      "2    12\n",
      "dtype: int64\n",
      "ID :  13\n",
      "0    11\n",
      "1     8\n",
      "2     9\n",
      "dtype: int64\n",
      "ID :  14\n",
      "0    1\n",
      "1    6\n",
      "2    7\n",
      "dtype: int64\n",
      "ID :  15\n",
      "0    11\n",
      "1     6\n",
      "2     7\n",
      "dtype: int64\n"
     ]
    }
   ],
   "source": [
    "#Manhattan L1-norm\n",
    "for index, xi in Xtest.iterrows():\n",
    "     #print(np.sum(abs(X-xi), axis=1))\n",
    "     print('ID : ',index)\n",
    "     print(np.sum(abs(Xtrain-xi), axis=1))"
   ],
   "metadata": {
    "collapsed": false,
    "pycharm": {
     "name": "#%%\n"
    }
   }
  },
  {
   "cell_type": "code",
   "execution_count": 20,
   "outputs": [
    {
     "name": "stdout",
     "output_type": "stream",
     "text": [
      "ID :  3\n",
      "0    6.480741\n",
      "1    7.141428\n",
      "2    6.480741\n",
      "dtype: float64\n",
      "ID :  4\n",
      "0    3.741657\n",
      "1    4.358899\n",
      "2    3.464102\n",
      "dtype: float64\n",
      "ID :  5\n",
      "0    3.872983\n",
      "1    4.242641\n",
      "2    5.567764\n",
      "dtype: float64\n",
      "ID :  6\n",
      "0    4.582576\n",
      "1    6.000000\n",
      "2    3.316625\n",
      "dtype: float64\n",
      "ID :  7\n",
      "0    3.605551\n",
      "1    5.099020\n",
      "2    6.082763\n",
      "dtype: float64\n",
      "ID :  8\n",
      "0    3.162278\n",
      "1    2.645751\n",
      "2    5.477226\n",
      "dtype: float64\n",
      "ID :  9\n",
      "0    2.449490\n",
      "1    3.000000\n",
      "2    4.242641\n",
      "dtype: float64\n",
      "ID :  10\n",
      "0    3.741657\n",
      "1    3.316625\n",
      "2    4.690416\n",
      "dtype: float64\n",
      "ID :  11\n",
      "0    2.449490\n",
      "1    4.123106\n",
      "2    4.242641\n",
      "dtype: float64\n",
      "ID :  12\n",
      "0    5.099020\n",
      "1    5.744563\n",
      "2    7.071068\n",
      "dtype: float64\n",
      "ID :  13\n",
      "0    5.916080\n",
      "1    5.477226\n",
      "2    5.385165\n",
      "dtype: float64\n",
      "ID :  14\n",
      "0    1.000000\n",
      "1    3.162278\n",
      "2    4.582576\n",
      "dtype: float64\n",
      "ID :  15\n",
      "0    6.082763\n",
      "1    5.099020\n",
      "2    5.385165\n",
      "dtype: float64\n"
     ]
    }
   ],
   "source": [
    "#euclidean\n",
    "for index, xi in Xtest.iterrows():\n",
    "     print('ID : ',index)\n",
    "     print()"
   ],
   "metadata": {
    "collapsed": false,
    "pycharm": {
     "name": "#%%\n"
    }
   }
  },
  {
   "cell_type": "code",
   "execution_count": 28,
   "outputs": [
    {
     "name": "stdout",
     "output_type": "stream",
     "text": [
      "ID :  8\n",
      "0    10\n",
      "1     7\n",
      "2    30\n",
      "3    40\n",
      "4    14\n",
      "5     5\n",
      "6    33\n",
      "7    11\n",
      "dtype: int64\n",
      "ID :  9\n",
      "0     6\n",
      "1     9\n",
      "2    18\n",
      "3    30\n",
      "4     6\n",
      "5     5\n",
      "6    19\n",
      "7    11\n",
      "dtype: int64\n",
      "ID :  10\n",
      "0    14\n",
      "1    11\n",
      "2    22\n",
      "3    20\n",
      "4     2\n",
      "5    13\n",
      "6     9\n",
      "7    23\n",
      "dtype: int64\n",
      "ID :  11\n",
      "0     6\n",
      "1    17\n",
      "2    18\n",
      "3    28\n",
      "4    10\n",
      "5     3\n",
      "6    23\n",
      "7     5\n",
      "dtype: int64\n",
      "ID :  12\n",
      "0    26\n",
      "1    33\n",
      "2    50\n",
      "3    10\n",
      "4    22\n",
      "5    17\n",
      "6    27\n",
      "7    15\n",
      "dtype: int64\n",
      "ID :  13\n",
      "0    35\n",
      "1    30\n",
      "2    29\n",
      "3    13\n",
      "4     7\n",
      "5    14\n",
      "6    18\n",
      "7    30\n",
      "dtype: int64\n",
      "ID :  14\n",
      "0     1\n",
      "1    10\n",
      "2    21\n",
      "3    37\n",
      "4    11\n",
      "5    14\n",
      "6    18\n",
      "7    14\n",
      "dtype: int64\n",
      "ID :  15\n",
      "0    37\n",
      "1    26\n",
      "2    29\n",
      "3    27\n",
      "4     7\n",
      "5    28\n",
      "6    14\n",
      "7    48\n",
      "dtype: int64\n"
     ]
    }
   ],
   "source": [
    "#squared euclidean\n",
    "for index, xi in Xtest.iterrows():\n",
    "     print('ID : ',index)\n",
    "     print(np.sum(abs(Xtrain-xi)**2, axis=1))"
   ],
   "metadata": {
    "collapsed": false,
    "pycharm": {
     "name": "#%%\n"
    }
   }
  },
  {
   "cell_type": "code",
   "execution_count": 22,
   "outputs": [
    {
     "name": "stdout",
     "output_type": "stream",
     "text": [
      "ID :  3\n",
      "0    4\n",
      "1    5\n",
      "2    5\n",
      "dtype: int64\n",
      "ID :  4\n",
      "0    3\n",
      "1    4\n",
      "2    3\n",
      "dtype: int64\n",
      "ID :  5\n",
      "0    3\n",
      "1    3\n",
      "2    3\n",
      "dtype: int64\n",
      "ID :  6\n",
      "0    4\n",
      "1    5\n",
      "2    3\n",
      "dtype: int64\n",
      "ID :  7\n",
      "0    3\n",
      "1    4\n",
      "2    4\n",
      "dtype: int64\n",
      "ID :  8\n",
      "0    3\n",
      "1    2\n",
      "2    4\n",
      "dtype: int64\n",
      "ID :  9\n",
      "0    2\n",
      "1    2\n",
      "2    3\n",
      "dtype: int64\n",
      "ID :  10\n",
      "0    3\n",
      "1    3\n",
      "2    4\n",
      "dtype: int64\n",
      "ID :  11\n",
      "0    2\n",
      "1    3\n",
      "2    3\n",
      "dtype: int64\n",
      "ID :  12\n",
      "0    4\n",
      "1    5\n",
      "2    5\n",
      "dtype: int64\n",
      "ID :  13\n",
      "0    4\n",
      "1    5\n",
      "2    4\n",
      "dtype: int64\n",
      "ID :  14\n",
      "0    1\n",
      "1    2\n",
      "2    4\n",
      "dtype: int64\n",
      "ID :  15\n",
      "0    4\n",
      "1    5\n",
      "2    5\n",
      "dtype: int64\n"
     ]
    }
   ],
   "source": [
    "#Uniform/Supremum/Chebyshev/Infinity L∞-norm\n",
    "for index, xi in Xtest.iterrows():\n",
    "     print('ID : ',index)\n",
    "     print(np.max(abs(Xtrain-xi), axis=1))\n"
   ],
   "metadata": {
    "collapsed": false,
    "pycharm": {
     "name": "#%%\n"
    }
   }
  },
  {
   "cell_type": "code",
   "execution_count": 23,
   "outputs": [
    {
     "name": "stdout",
     "output_type": "stream",
     "text": [
      "ID :  3\n",
      "0    18.544464\n",
      "1    15.171885\n",
      "2    13.831335\n",
      "dtype: float64\n",
      "ID :  4\n",
      "0     8.461759\n",
      "1    10.489026\n",
      "2     9.193012\n",
      "dtype: float64\n",
      "ID :  5\n",
      "0    10.809061\n",
      "1    12.488025\n",
      "2    17.402333\n",
      "dtype: float64\n",
      "ID :  6\n",
      "0     9.732519\n",
      "1    15.003194\n",
      "2     6.947976\n",
      "dtype: float64\n",
      "ID :  7\n",
      "0     6.267826\n",
      "1    11.165010\n",
      "2    16.909371\n",
      "dtype: float64\n",
      "ID :  8\n",
      "0     4.872420\n",
      "1     7.832185\n",
      "2    15.441743\n",
      "dtype: float64\n",
      "ID :  9\n",
      "0     5.685201\n",
      "1     7.130577\n",
      "2    12.488025\n",
      "dtype: float64\n",
      "ID :  10\n",
      "0     8.461759\n",
      "1     6.947976\n",
      "2    12.156099\n",
      "dtype: float64\n",
      "ID :  11\n",
      "0     5.685201\n",
      "1    10.046688\n",
      "2    12.488025\n",
      "dtype: float64\n",
      "ID :  12\n",
      "0    11.165010\n",
      "1    12.649185\n",
      "2    17.215555\n",
      "dtype: float64\n",
      "ID :  13\n",
      "0    17.041428\n",
      "1    10.964536\n",
      "2    12.856904\n",
      "dtype: float64\n",
      "ID :  14\n",
      "0    1.000000\n",
      "1    9.388732\n",
      "2    9.732519\n",
      "dtype: float64\n",
      "ID :  15\n",
      "0    16.909371\n",
      "1     7.087286\n",
      "2     8.608055\n",
      "dtype: float64\n"
     ]
    }
   ],
   "source": [
    "#Lp-norm\n",
    "p = 3/4\n",
    "for index, xi in Xtest.iterrows():\n",
    "     print('ID : ',index)\n",
    "     print(np.power(np.sum(abs(Xtrain-xi)**p, axis=1),(1/p)))\n"
   ],
   "metadata": {
    "collapsed": false,
    "pycharm": {
     "name": "#%%\n"
    }
   }
  },
  {
   "cell_type": "markdown",
   "source": [
    "LSH"
   ],
   "metadata": {
    "collapsed": false
   }
  },
  {
   "cell_type": "code",
   "execution_count": null,
   "outputs": [],
   "source": [],
   "metadata": {
    "collapsed": false,
    "pycharm": {
     "name": "#%%\n"
    }
   }
  },
  {
   "cell_type": "code",
   "execution_count": 33,
   "outputs": [],
   "source": [
    "code = [[5, 5, 1,-1],\n",
    "        [4, 4, 5,5],\n",
    "        [3, -2, 5,1]]\n",
    "code = np.array(code)\n",
    "df2 = pd.DataFrame(df.iloc[:,-1])"
   ],
   "metadata": {
    "collapsed": false,
    "pycharm": {
     "name": "#%%\n"
    }
   }
  },
  {
   "cell_type": "code",
   "execution_count": 34,
   "outputs": [
    {
     "data": {
      "text/plain": "   target\n0       B\n1       C\n2       B\n3       C\n4       D\n5       A\n6       D\n7       A\n8       D\n9       A\n10      A\n11      D\n12      B\n13      C\n14      B\n15      C",
      "text/html": "<div>\n<style scoped>\n    .dataframe tbody tr th:only-of-type {\n        vertical-align: middle;\n    }\n\n    .dataframe tbody tr th {\n        vertical-align: top;\n    }\n\n    .dataframe thead th {\n        text-align: right;\n    }\n</style>\n<table border=\"1\" class=\"dataframe\">\n  <thead>\n    <tr style=\"text-align: right;\">\n      <th></th>\n      <th>target</th>\n    </tr>\n  </thead>\n  <tbody>\n    <tr>\n      <th>0</th>\n      <td>B</td>\n    </tr>\n    <tr>\n      <th>1</th>\n      <td>C</td>\n    </tr>\n    <tr>\n      <th>2</th>\n      <td>B</td>\n    </tr>\n    <tr>\n      <th>3</th>\n      <td>C</td>\n    </tr>\n    <tr>\n      <th>4</th>\n      <td>D</td>\n    </tr>\n    <tr>\n      <th>5</th>\n      <td>A</td>\n    </tr>\n    <tr>\n      <th>6</th>\n      <td>D</td>\n    </tr>\n    <tr>\n      <th>7</th>\n      <td>A</td>\n    </tr>\n    <tr>\n      <th>8</th>\n      <td>D</td>\n    </tr>\n    <tr>\n      <th>9</th>\n      <td>A</td>\n    </tr>\n    <tr>\n      <th>10</th>\n      <td>A</td>\n    </tr>\n    <tr>\n      <th>11</th>\n      <td>D</td>\n    </tr>\n    <tr>\n      <th>12</th>\n      <td>B</td>\n    </tr>\n    <tr>\n      <th>13</th>\n      <td>C</td>\n    </tr>\n    <tr>\n      <th>14</th>\n      <td>B</td>\n    </tr>\n    <tr>\n      <th>15</th>\n      <td>C</td>\n    </tr>\n  </tbody>\n</table>\n</div>"
     },
     "execution_count": 34,
     "metadata": {},
     "output_type": "execute_result"
    }
   ],
   "source": [
    "df2"
   ],
   "metadata": {
    "collapsed": false,
    "pycharm": {
     "name": "#%%\n"
    }
   }
  },
  {
   "cell_type": "code",
   "execution_count": 35,
   "outputs": [
    {
     "name": "stdout",
     "output_type": "stream",
     "text": [
      "--- [ 5  5  1 -1]\n",
      "[10 19  0 34 14 35  3 35 26 20 16 24 32 29 11 15]\n",
      "--- [4 4 5 5]\n",
      "[48 42 29 33 27 58 14 68 55 46 27 55 44 29 43 12]\n",
      "--- [ 3 -2  5  1]\n",
      "[25 35  8 -3 11 24  0 25 33 25 15 24  9  9 24  9]\n"
     ]
    }
   ],
   "source": [
    "\n",
    "for index,c in enumerate(code):\n",
    "     print('---',c)\n",
    "     print(np.dot(df.iloc[:,:-1],c))\n",
    "     # h = np.where(np.dot(df.iloc[:,:-1],c)>=0,1,0)\n",
    "     # df_temp = pd.DataFrame({'c'+str(index): h.tolist()})\n",
    "     # df2 = df2.join(df_temp)\n"
   ],
   "metadata": {
    "collapsed": false,
    "pycharm": {
     "name": "#%%\n"
    }
   }
  }
 ],
 "metadata": {
  "kernelspec": {
   "display_name": "Python 3",
   "language": "python",
   "name": "python3"
  },
  "language_info": {
   "codemirror_mode": {
    "name": "ipython",
    "version": 2
   },
   "file_extension": ".py",
   "mimetype": "text/x-python",
   "name": "python",
   "nbconvert_exporter": "python",
   "pygments_lexer": "ipython2",
   "version": "2.7.6"
  }
 },
 "nbformat": 4,
 "nbformat_minor": 0
}